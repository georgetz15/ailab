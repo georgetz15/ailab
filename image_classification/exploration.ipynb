{
 "cells": [
  {
   "cell_type": "code",
   "execution_count": 1,
   "id": "initial_id",
   "metadata": {
    "collapsed": true,
    "ExecuteTime": {
     "end_time": "2024-06-09T17:31:45.091917800Z",
     "start_time": "2024-06-09T17:31:39.916155400Z"
    }
   },
   "outputs": [
    {
     "name": "stderr",
     "output_type": "stream",
     "text": [
      "C:\\Users\\George Tzoupis\\anaconda3\\envs\\ailab\\lib\\site-packages\\torchvision\\io\\image.py:13: UserWarning: Failed to load image Python extension: '[WinError 127] The specified procedure could not be found'If you don't plan on using image functionality from `torchvision.io`, you can ignore this warning. Otherwise, there might be something wrong with your environment. Did you have `libjpeg` or `libpng` installed before building `torchvision` from source?\n",
      "  warn(\n"
     ]
    }
   ],
   "source": [
    "import numpy as np\n",
    "import optuna\n",
    "import torch\n",
    "\n",
    "from image_classification.models.mlp import MLPClassifier\n",
    "from image_classification.models.resnet import ResNetClassifier_fastai, Resnet\n",
    "import lightning.pytorch as pl\n",
    "import lightning.pytorch.loggers as pl_loggers\n",
    "import lightning.pytorch.callbacks as pl_callbacks\n",
    "from image_classification.models.classification_model import ClassificationModel\n",
    "\n",
    "from util import set_seed\n",
    "from weight_init import init_for_relu\n",
    "from sklearn.model_selection import ParameterGrid\n",
    "from datasets import FashionMNIST\n",
    "from experiment import train\n",
    "import sklearn.metrics as skm\n",
    "import torch\n",
    "from image_classification.models.cnn import CNN\n",
    "from weight_init import generic_init\n"
   ]
  },
  {
   "cell_type": "code",
   "execution_count": 2,
   "outputs": [],
   "source": [
    "def show_classification_results(test_dl, model, classnames):\n",
    "    ypred, ytrue = [], []\n",
    "\n",
    "    model.eval()\n",
    "    with torch.inference_mode():\n",
    "        for x, y in test_dl:\n",
    "            pred = model(x.to(model.device))\n",
    "            ypred.extend(pred.argmax(-1).cpu().numpy().flatten())\n",
    "            ytrue.extend(y.cpu().numpy().flatten())\n",
    "\n",
    "    print(skm.classification_report(ytrue, ypred, target_names=classnames))\n",
    "    print(skm.confusion_matrix(ytrue, ypred))"
   ],
   "metadata": {
    "collapsed": false,
    "ExecuteTime": {
     "end_time": "2024-06-09T17:31:45.107962300Z",
     "start_time": "2024-06-09T17:31:45.088917100Z"
    }
   },
   "id": "cfc411c34272bc3b"
  },
  {
   "cell_type": "markdown",
   "source": [
    "# Param Grid using sklearn"
   ],
   "metadata": {
    "collapsed": false
   },
   "id": "b0845bce3c167eff"
  },
  {
   "cell_type": "code",
   "execution_count": 3,
   "outputs": [],
   "source": [
    "torch.set_float32_matmul_precision(\"medium\")"
   ],
   "metadata": {
    "collapsed": false,
    "ExecuteTime": {
     "end_time": "2024-06-09T17:31:45.127136800Z",
     "start_time": "2024-06-09T17:31:45.102425800Z"
    }
   },
   "id": "936c1daf3c884602"
  },
  {
   "cell_type": "code",
   "execution_count": 4,
   "outputs": [
    {
     "name": "stderr",
     "output_type": "stream",
     "text": [
      "Global seed set to 42\n",
      "C:\\Users\\George Tzoupis\\anaconda3\\envs\\ailab\\lib\\site-packages\\lightning\\pytorch\\utilities\\parsing.py:197: UserWarning: Attribute 'model' is an instance of `nn.Module` and is already saved during checkpointing. It is recommended to ignore them using `self.save_hyperparameters(ignore=['model'])`.\n",
      "  rank_zero_warn(\n",
      "GPU available: True (cuda), used: True\n",
      "TPU available: False, using: 0 TPU cores\n",
      "IPU available: False, using: 0 IPUs\n",
      "HPU available: False, using: 0 HPUs\n",
      "LOCAL_RANK: 0 - CUDA_VISIBLE_DEVICES: [0]\n",
      "Loading `train_dataloader` to estimate number of stepping batches.\n",
      "\n",
      "  | Name       | Type                | Params\n",
      "---------------------------------------------------\n",
      "0 | classifier | Resnet              | 1.3 M \n",
      "1 | accuracy   | MulticlassAccuracy  | 0     \n",
      "2 | precision  | MulticlassPrecision | 0     \n",
      "3 | recall     | MulticlassRecall    | 0     \n",
      "---------------------------------------------------\n",
      "1.3 M     Trainable params\n",
      "0         Non-trainable params\n",
      "1.3 M     Total params\n",
      "5.003     Total estimated model params size (MB)\n"
     ]
    },
    {
     "data": {
      "text/plain": "Sanity Checking: 0it [00:00, ?it/s]",
      "application/vnd.jupyter.widget-view+json": {
       "version_major": 2,
       "version_minor": 0,
       "model_id": "ececea71a12843ab91f6a96b9eca6575"
      }
     },
     "metadata": {},
     "output_type": "display_data"
    },
    {
     "data": {
      "text/plain": "Training: 0it [00:00, ?it/s]",
      "application/vnd.jupyter.widget-view+json": {
       "version_major": 2,
       "version_minor": 0,
       "model_id": "71ffbd745ffa42c9b3ce4371dd99f32c"
      }
     },
     "metadata": {},
     "output_type": "display_data"
    },
    {
     "data": {
      "text/plain": "Validation: 0it [00:00, ?it/s]",
      "application/vnd.jupyter.widget-view+json": {
       "version_major": 2,
       "version_minor": 0,
       "model_id": "ec5d0767c8b645b5a5b8cbf03088c751"
      }
     },
     "metadata": {},
     "output_type": "display_data"
    },
    {
     "data": {
      "text/plain": "Validation: 0it [00:00, ?it/s]",
      "application/vnd.jupyter.widget-view+json": {
       "version_major": 2,
       "version_minor": 0,
       "model_id": "276aec8bb84747ce81b61febeb26ce51"
      }
     },
     "metadata": {},
     "output_type": "display_data"
    },
    {
     "data": {
      "text/plain": "Validation: 0it [00:00, ?it/s]",
      "application/vnd.jupyter.widget-view+json": {
       "version_major": 2,
       "version_minor": 0,
       "model_id": "60f5f1d7df6543af9ea2f125c13edad4"
      }
     },
     "metadata": {},
     "output_type": "display_data"
    },
    {
     "data": {
      "text/plain": "Validation: 0it [00:00, ?it/s]",
      "application/vnd.jupyter.widget-view+json": {
       "version_major": 2,
       "version_minor": 0,
       "model_id": "2c8bf083c4c1432cb9b255c0a3008155"
      }
     },
     "metadata": {},
     "output_type": "display_data"
    },
    {
     "data": {
      "text/plain": "Validation: 0it [00:00, ?it/s]",
      "application/vnd.jupyter.widget-view+json": {
       "version_major": 2,
       "version_minor": 0,
       "model_id": "ab34eac67380410a924900645ff3a0c4"
      }
     },
     "metadata": {},
     "output_type": "display_data"
    },
    {
     "data": {
      "text/plain": "Validation: 0it [00:00, ?it/s]",
      "application/vnd.jupyter.widget-view+json": {
       "version_major": 2,
       "version_minor": 0,
       "model_id": "8c4593fe38524dc888c2e2a264f3a49d"
      }
     },
     "metadata": {},
     "output_type": "display_data"
    },
    {
     "data": {
      "text/plain": "Validation: 0it [00:00, ?it/s]",
      "application/vnd.jupyter.widget-view+json": {
       "version_major": 2,
       "version_minor": 0,
       "model_id": "c4e1f943c2c249509b4a1ffee92d3f76"
      }
     },
     "metadata": {},
     "output_type": "display_data"
    },
    {
     "data": {
      "text/plain": "Validation: 0it [00:00, ?it/s]",
      "application/vnd.jupyter.widget-view+json": {
       "version_major": 2,
       "version_minor": 0,
       "model_id": "ecf18d4da4a04b8da242aa28a996ea33"
      }
     },
     "metadata": {},
     "output_type": "display_data"
    },
    {
     "data": {
      "text/plain": "Validation: 0it [00:00, ?it/s]",
      "application/vnd.jupyter.widget-view+json": {
       "version_major": 2,
       "version_minor": 0,
       "model_id": "58548a1756514080921a2e622f457569"
      }
     },
     "metadata": {},
     "output_type": "display_data"
    },
    {
     "data": {
      "text/plain": "Validation: 0it [00:00, ?it/s]",
      "application/vnd.jupyter.widget-view+json": {
       "version_major": 2,
       "version_minor": 0,
       "model_id": "de419f9685804cf6bd88ee7319982630"
      }
     },
     "metadata": {},
     "output_type": "display_data"
    },
    {
     "name": "stderr",
     "output_type": "stream",
     "text": [
      "`Trainer.fit` stopped: `max_epochs=10` reached.\n"
     ]
    },
    {
     "name": "stdout",
     "output_type": "stream",
     "text": [
      "              precision    recall  f1-score   support\n",
      "\n",
      " T-shirt/top       0.86      0.83      0.85      1000\n",
      "     Trouser       0.99      0.98      0.98      1000\n",
      "    Pullover       0.83      0.87      0.85      1000\n",
      "       Dress       0.87      0.90      0.88      1000\n",
      "        Coat       0.80      0.85      0.83      1000\n",
      "      Sandal       0.97      0.96      0.97      1000\n",
      "       Shirt       0.73      0.66      0.69      1000\n",
      "     Sneaker       0.94      0.94      0.94      1000\n",
      "         Bag       0.99      0.97      0.98      1000\n",
      "  Ankle boot       0.95      0.96      0.95      1000\n",
      "\n",
      "    accuracy                           0.89     10000\n",
      "   macro avg       0.89      0.89      0.89     10000\n",
      "weighted avg       0.89      0.89      0.89     10000\n",
      "\n",
      "[[831   1  17  39   5   1 100   0   6   0]\n",
      " [  1 982   1  13   2   0   0   0   1   0]\n",
      " [ 15   0 872  10  57   0  45   0   1   0]\n",
      " [  5  10   5 896  49   0  34   0   1   0]\n",
      " [  1   0  66  25 854   0  53   0   1   0]\n",
      " [  0   0   0   0   0 956   0  33   0  11]\n",
      " [109   0  91  38  98   0 660   0   4   0]\n",
      " [  0   0   0   0   0  17   0 941   0  42]\n",
      " [  2   3   1   4   3   1   9   1 975   1]\n",
      " [  0   0   0   1   0   6   0  31   0 962]]\n"
     ]
    }
   ],
   "source": [
    "param_grid = {\n",
    "    'n_features': [\n",
    "        # (4, 8, 16, 32, 64),\n",
    "        # (8, 16, 32, 64, 128),\n",
    "        (16, 32, 64, 128, 256),\n",
    "    ],\n",
    "    'lr': [1e-3],\n",
    "    'wd': [1e-5],\n",
    "    'batch_sz': [32]\n",
    "}\n",
    "\n",
    "for params in ParameterGrid(param_grid):\n",
    "    pl.seed_everything(42, True)\n",
    "\n",
    "    train_dl, valid_dl, test_dl = FashionMNIST.get_dataloaders(batch_size=params['batch_sz'],\n",
    "                                                               pin_memory=True,\n",
    "                                                               num_workers=4,\n",
    "                                                               persistent_workers=True)\n",
    "    n_classes = len(train_dl.dataset.classes)\n",
    "\n",
    "    # Select classification model:\n",
    "\n",
    "    # classifier = MLPClassifier(\n",
    "    #     input_sz=28 * 28,\n",
    "    #     n_classes=n_classes,\n",
    "    #     n_features=(16, 32,),\n",
    "    # ).apply(init_for_relu)\n",
    "\n",
    "    # classifier = ResNetClassifier_fastai(\n",
    "    #     n_classes=n_classes,\n",
    "    #     n_features=params[\"n_features\"]\n",
    "    # ).apply(generic_init)\n",
    "\n",
    "    # classifier = CNN(\n",
    "    #     n_input_channels=1,\n",
    "    #     n_classes=n_classes,\n",
    "    #     n_features=params[\"n_features\"],\n",
    "    #     n_hidden_layers=128,\n",
    "    #     init_weights=True,\n",
    "    #     use_sepconv=False,\n",
    "    # )\n",
    "\n",
    "    classifier = Resnet(\n",
    "        n_input_channels=1,\n",
    "        n_classes=n_classes,\n",
    "        n_features=params[\"n_features\"],\n",
    "        n_hidden_layers=128,\n",
    "        use_fft_input=False,\n",
    "        init_weights=True,\n",
    "    )\n",
    "\n",
    "    model = ClassificationModel(\n",
    "        model=classifier,\n",
    "        n_classes=n_classes,\n",
    "        opt=\"AdamW\",\n",
    "        lr=params[\"lr\"],\n",
    "        wd=params[\"wd\"]\n",
    "    )\n",
    "\n",
    "    checkpoint_callback = pl.callbacks.ModelCheckpoint(\n",
    "        save_top_k=1,\n",
    "        monitor=\"accuracy/val\",\n",
    "        mode=\"max\",\n",
    "        filename=\"best-{epoch:02d}\",\n",
    "        save_last=True,\n",
    "    )\n",
    "\n",
    "    # experiment_name = f\"Resnet-batch_sz-{params['batch_sz']}-layers\"\n",
    "    experiment_name = f\"Testing-Refactor\"\n",
    "    tb_logger = pl_loggers.TensorBoardLogger(save_dir='./results',\n",
    "                                             name=experiment_name,\n",
    "                                             sub_dir=model.classifier.__class__.__name__)\n",
    "    trainer = pl.Trainer(max_epochs=10,\n",
    "                         # limit_train_batches=10,\n",
    "                         # limit_val_batches=10,\n",
    "                         callbacks=[\n",
    "                             checkpoint_callback,\n",
    "                         ],\n",
    "                         logger=tb_logger,\n",
    "                         )\n",
    "    trainer.fit(model=model,\n",
    "                train_dataloaders=train_dl,\n",
    "                val_dataloaders=valid_dl,\n",
    "                # ckpt_path='./results/fashion_mnist/version_5/checkpoints/best-epoch=04.ckpt'\n",
    "                )\n",
    "\n",
    "    show_classification_results(test_dl, model, test_dl.dataset.classes)\n"
   ],
   "metadata": {
    "collapsed": false,
    "ExecuteTime": {
     "end_time": "2024-06-09T17:38:25.674230900Z",
     "start_time": "2024-06-09T17:31:45.120624Z"
    }
   },
   "id": "c10f9d58693f3c15"
  },
  {
   "cell_type": "code",
   "execution_count": null,
   "outputs": [],
   "source": [
    "def objective(trial: optuna.trial.Trial) -> float:\n",
    "    pl.seed_everything(42, True)\n",
    "\n",
    "    params = {\n",
    "        \"dropout\": trial.suggest_float(\"dropout\", 0.1, 0.5, log=True),\n",
    "        \"lr\": trial.suggest_float(\"lr\", 1e-5, 1e-1, log=True),\n",
    "        \"wd\": trial.suggest_float(\"wd\", 1e-5, 1e-1, log=True),\n",
    "        \"opt\": trial.suggest_categorical(\"opt\", [\"SGD\", \"RAdam\"]),\n",
    "    }\n",
    "\n",
    "    data_module = FashionMNIST.FashionMNISTDataModule()\n",
    "    n_classes = data_module.n_classes\n",
    "    model = ResNetClassifier(\n",
    "        n_classes=n_classes,\n",
    "        **params).apply(init_for_relu)\n",
    "\n",
    "    trainer = train(model,\n",
    "                    data_module,\n",
    "                    monitored_metric='accuracy/val',\n",
    "                    mode='max',\n",
    "                    max_epochs=10,\n",
    "                    limit_train_batches=200)\n",
    "\n",
    "    return trainer.callback_metrics[\"accuracy/val\"].item()\n",
    "\n",
    "\n",
    "pruner = optuna.pruners.HyperbandPruner()\n",
    "study = optuna.create_study(direction=\"maximize\", pruner=pruner)\n",
    "study.optimize(objective, n_trials=100, timeout=60 * 60, n_jobs=1)\n",
    "\n",
    "print(\"Number of finished trials: {}\".format(len(study.trials)))\n",
    "\n",
    "print(\"Best trial:\")\n",
    "trial = study.best_trial\n",
    "\n",
    "print(\"  Value: {}\".format(trial.value))\n",
    "\n",
    "print(\"  Params: \")\n",
    "for key, value in trial.params.items():\n",
    "    print(\"    {}: {}\".format(key, value))"
   ],
   "metadata": {
    "collapsed": false
   },
   "id": "334eb883144387d7"
  },
  {
   "cell_type": "code",
   "execution_count": null,
   "outputs": [],
   "source": [
    "data_module = FashionMNIST.FashionMNISTDataModule()\n",
    "ckpt_path = \"results/FashionMNIST/version_2/checkpoints/last.ckpt\"\n",
    "model = ResNetClassifier.load_from_checkpoint(ckpt_path)\n",
    "\n",
    "checkpoint_callback = pl.callbacks.ModelCheckpoint(\n",
    "    save_top_k=1,\n",
    "    monitor=\"accuracy/val\",\n",
    "    mode=\"max\",\n",
    "    filename=\"best-{epoch:02d}\",\n",
    "    save_last=True,\n",
    ")\n",
    "\n",
    "tb_logger = pl_loggers.TensorBoardLogger(save_dir='./results',\n",
    "                                         name=data_module.dataset_name,\n",
    "                                         sub_dir=model.__class__.__name__)\n",
    "\n",
    "trainer = pl.Trainer(max_epochs=40,\n",
    "                     callbacks=[\n",
    "                         checkpoint_callback,\n",
    "                     ],\n",
    "                     logger=tb_logger,\n",
    "                     )\n",
    "\n",
    "trainer.fit(model,\n",
    "            data_module,\n",
    "            ckpt_path=ckpt_path,\n",
    "            )"
   ],
   "metadata": {
    "collapsed": false
   },
   "id": "fc8ce6eb314b5ff8"
  },
  {
   "cell_type": "code",
   "outputs": [],
   "source": [],
   "metadata": {
    "collapsed": false
   },
   "id": "855690a18a31a73d"
  }
 ],
 "metadata": {
  "kernelspec": {
   "display_name": "Python 3",
   "language": "python",
   "name": "python3"
  },
  "language_info": {
   "codemirror_mode": {
    "name": "ipython",
    "version": 2
   },
   "file_extension": ".py",
   "mimetype": "text/x-python",
   "name": "python",
   "nbconvert_exporter": "python",
   "pygments_lexer": "ipython2",
   "version": "2.7.6"
  }
 },
 "nbformat": 4,
 "nbformat_minor": 5
}
