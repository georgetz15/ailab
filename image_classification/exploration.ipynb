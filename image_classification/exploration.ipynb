{
 "cells": [
  {
   "cell_type": "code",
   "execution_count": 4,
   "id": "initial_id",
   "metadata": {
    "collapsed": true,
    "ExecuteTime": {
     "end_time": "2023-12-02T20:08:57.881867200Z",
     "start_time": "2023-12-02T20:08:57.741377800Z"
    }
   },
   "outputs": [],
   "source": [
    "from image_classification.models.mlp import MLPClassifier\n",
    "from image_classification.models.resnet import ResNetClassifier\n",
    "from layers import ResNetBlock\n",
    "import lightning.pytorch as pl\n",
    "import lightning.pytorch.loggers as pl_loggers\n",
    "import lightning.pytorch.callbacks as pl_callbacks\n",
    "\n",
    "from util import set_seed\n",
    "from weight_init import init_for_relu\n",
    "\n",
    "from ray.train.lightning import (\n",
    "    RayDDPStrategy,\n",
    "    RayLightningEnvironment,\n",
    "    RayTrainReportCallback,\n",
    "    prepare_trainer,\n",
    ")\n",
    "\n",
    "from ray import tune\n"
   ]
  },
  {
   "cell_type": "code",
   "execution_count": 2,
   "outputs": [],
   "source": [
    "from datasets import FashionMNIST"
   ],
   "metadata": {
    "collapsed": false,
    "ExecuteTime": {
     "end_time": "2023-12-02T20:01:14.624764300Z",
     "start_time": "2023-12-02T20:01:14.598978400Z"
    }
   },
   "id": "e63de1d1a4e5f275"
  },
  {
   "cell_type": "code",
   "execution_count": 3,
   "outputs": [
    {
     "name": "stderr",
     "output_type": "stream",
     "text": [
      "Seed set to 42\n",
      "GPU available: True (cuda), used: True\n",
      "TPU available: False, using: 0 TPU cores\n",
      "IPU available: False, using: 0 IPUs\n",
      "HPU available: False, using: 0 HPUs\n",
      "\n",
      "KeyboardInterrupt\n",
      "\n"
     ]
    }
   ],
   "source": [
    "pl.seed_everything(42, True)\n",
    "\n",
    "train_dl, valid_dl, test_dl = FashionMNIST.get_dataloaders(batch_size=16,\n",
    "                                                           pin_memory=True,\n",
    "                                                           num_workers=4,\n",
    "                                                           persistent_workers=True)\n",
    "\n",
    "n_classes = len(train_dl.dataset.classes)\n",
    "\n",
    "# model = ResNetClassifier(\n",
    "#     n_classes=n_classes,\n",
    "#     opt='AdamW',\n",
    "#     lr=1e-1,\n",
    "#     wd=1e-4, ).apply(init_for_relu)\n",
    "\n",
    "model = MLPClassifier(\n",
    "    input_sz=28 * 28,\n",
    "    n_classes=n_classes,\n",
    "    n_features=(16, 32, 64, 128,)\n",
    ").apply(init_for_relu)\n",
    "\n",
    "checkpoint_callback = pl.callbacks.ModelCheckpoint(\n",
    "    save_top_k=1,\n",
    "    monitor=\"accuracy/val\",\n",
    "    mode=\"max\",\n",
    "    filename=\"best-{epoch:02d}\",\n",
    "    save_last=True,\n",
    ")\n",
    "\n",
    "tb_logger = pl_loggers.TensorBoardLogger(save_dir='./results',\n",
    "                                         name='fashion_mnist',\n",
    "                                         sub_dir=model.__class__.__name__)\n",
    "\n",
    "trainer = pl.Trainer(max_epochs=5,\n",
    "                     limit_train_batches=10,\n",
    "                     limit_val_batches=10,\n",
    "                     callbacks=[\n",
    "                         # pl.callbacks.LearningRateFinder(),\n",
    "                         # RayTrainReportCallback(),\n",
    "                         checkpoint_callback,\n",
    "                     ],\n",
    "                     logger=tb_logger,\n",
    "                     # devices=\"auto\",\n",
    "                     # accelerator=\"auto\",\n",
    "                     # strategy=RayDDPStrategy(),\n",
    "                     # plugins=[RayLightningEnvironment()],\n",
    "                     )\n",
    "\n",
    "trainer.fit(model=model,\n",
    "            train_dataloaders=train_dl,\n",
    "            val_dataloaders=valid_dl,\n",
    "            # ckpt_path='./results/fashion_mnist/version_5/checkpoints/best-epoch=04.ckpt'\n",
    "            )"
   ],
   "metadata": {
    "collapsed": false,
    "ExecuteTime": {
     "end_time": "2023-12-02T20:01:18.407325300Z",
     "start_time": "2023-12-02T20:01:15.046823400Z"
    }
   },
   "id": "c10f9d58693f3c15"
  },
  {
   "cell_type": "code",
   "execution_count": 5,
   "outputs": [
    {
     "name": "stderr",
     "output_type": "stream",
     "text": [
      "Seed set to 42\n"
     ]
    }
   ],
   "source": [
    "pl.seed_everything(42, True)\n",
    "\n",
    "search_space = {\n",
    "    \"layer_1_size\": tune.choice([32, 64, 128]),\n",
    "    \"layer_2_size\": tune.choice([64, 128, 256]),\n",
    "    \"lr\": tune.loguniform(1e-4, 1e-1),\n",
    "    \"batch_size\": tune.choice([16, 32]),\n",
    "}\n",
    "\n",
    "\n",
    "def train_func(config):\n",
    "    train_dl, valid_dl, test_dl = FashionMNIST.get_dataloaders(batch_size=config['batch_size'],\n",
    "                                                               pin_memory=True,\n",
    "                                                               num_workers=4,\n",
    "                                                               persistent_workers=True)\n",
    "\n",
    "    n_classes = len(train_dl.dataset.classes)\n",
    "\n",
    "    # model = ResNetClassifier(\n",
    "    #     n_classes=n_classes,\n",
    "    #     opt='AdamW',\n",
    "    #     lr=1e-1,\n",
    "    #     wd=1e-4, ).apply(init_for_relu)\n",
    "\n",
    "    model = MLPClassifier(\n",
    "        input_sz=28 * 28,\n",
    "        n_classes=n_classes,\n",
    "        n_features=(config['layer_1_size'], config['layer_2_size'],),\n",
    "        lr=config['lr'],\n",
    "    ).apply(init_for_relu)\n",
    "\n",
    "    checkpoint_callback = pl.callbacks.ModelCheckpoint(\n",
    "        save_top_k=1,\n",
    "        monitor=\"accuracy/val\",\n",
    "        mode=\"max\",\n",
    "        filename=\"best-{epoch:02d}\",\n",
    "        save_last=True,\n",
    "    )\n",
    "\n",
    "    tb_logger = pl_loggers.TensorBoardLogger(save_dir='./results',\n",
    "                                             name='fashion_mnist',\n",
    "                                             sub_dir=model.__class__.__name__)\n",
    "\n",
    "    trainer = pl.Trainer(max_epochs=5,\n",
    "                         limit_train_batches=10,\n",
    "                         limit_val_batches=10,\n",
    "                         callbacks=[\n",
    "                             # pl.callbacks.LearningRateFinder(),\n",
    "                             RayTrainReportCallback(),\n",
    "                             checkpoint_callback,\n",
    "                         ],\n",
    "                         logger=tb_logger,\n",
    "                         devices=\"auto\",\n",
    "                         accelerator=\"auto\",\n",
    "                         strategy=RayDDPStrategy(),\n",
    "                         plugins=[RayLightningEnvironment()],\n",
    "                         )\n",
    "\n",
    "    trainer = prepare_trainer(trainer)\n",
    "    trainer.fit(model=model,\n",
    "                train_dataloaders=train_dl,\n",
    "                val_dataloaders=valid_dl,\n",
    "                # ckpt_path='./results/fashion_mnist/version_5/checkpoints/best-epoch=04.ckpt'\n",
    "                )"
   ],
   "metadata": {
    "collapsed": false,
    "ExecuteTime": {
     "end_time": "2023-12-02T20:12:03.547070900Z",
     "start_time": "2023-12-02T20:12:03.541488200Z"
    }
   },
   "id": "750feb6a20eb93f"
  },
  {
   "cell_type": "code",
   "execution_count": null,
   "outputs": [],
   "source": [],
   "metadata": {
    "collapsed": false
   },
   "id": "3c7fd0e5defe4681"
  }
 ],
 "metadata": {
  "kernelspec": {
   "display_name": "Python 3",
   "language": "python",
   "name": "python3"
  },
  "language_info": {
   "codemirror_mode": {
    "name": "ipython",
    "version": 2
   },
   "file_extension": ".py",
   "mimetype": "text/x-python",
   "name": "python",
   "nbconvert_exporter": "python",
   "pygments_lexer": "ipython2",
   "version": "2.7.6"
  }
 },
 "nbformat": 4,
 "nbformat_minor": 5
}
