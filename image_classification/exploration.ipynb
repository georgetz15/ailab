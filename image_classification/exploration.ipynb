{
 "cells": [
  {
   "cell_type": "code",
   "execution_count": 1,
   "id": "initial_id",
   "metadata": {
    "collapsed": true,
    "ExecuteTime": {
     "end_time": "2024-06-09T13:54:12.325277300Z",
     "start_time": "2024-06-09T13:54:07.425372500Z"
    }
   },
   "outputs": [
    {
     "name": "stderr",
     "output_type": "stream",
     "text": [
      "C:\\Users\\George Tzoupis\\anaconda3\\envs\\ailab\\lib\\site-packages\\torchvision\\io\\image.py:13: UserWarning: Failed to load image Python extension: '[WinError 127] The specified procedure could not be found'If you don't plan on using image functionality from `torchvision.io`, you can ignore this warning. Otherwise, there might be something wrong with your environment. Did you have `libjpeg` or `libpng` installed before building `torchvision` from source?\n",
      "  warn(\n"
     ]
    }
   ],
   "source": [
    "import numpy as np\n",
    "import optuna\n",
    "import torch\n",
    "\n",
    "from image_classification.models.mlp import MLPClassifier\n",
    "from image_classification.models.resnet import ResNetClassifier\n",
    "from layers import ResNetBlock\n",
    "import lightning.pytorch as pl\n",
    "import lightning.pytorch.loggers as pl_loggers\n",
    "import lightning.pytorch.callbacks as pl_callbacks\n",
    "from image_classification.models.classification_model import ClassificationModel\n",
    "\n",
    "from util import set_seed\n",
    "from weight_init import init_for_relu\n",
    "from sklearn.model_selection import ParameterGrid\n",
    "from datasets import FashionMNIST\n",
    "from experiment import train\n",
    "import sklearn.metrics as skm\n",
    "import torch\n",
    "from image_classification.models.cnn import CNN\n"
   ]
  },
  {
   "cell_type": "code",
   "execution_count": 2,
   "outputs": [],
   "source": [
    "def show_classification_results(test_dl, model, classnames):\n",
    "    ypred, ytrue = [], []\n",
    "\n",
    "    model.eval()\n",
    "    with torch.inference_mode():\n",
    "        for x, y in test_dl:\n",
    "            pred = model(x.to(model.device))\n",
    "            ypred.extend(pred.argmax(-1).cpu().numpy().flatten())\n",
    "            ytrue.extend(y.cpu().numpy().flatten())\n",
    "\n",
    "    print(skm.classification_report(ytrue, ypred, target_names=classnames))\n",
    "    print(skm.confusion_matrix(ytrue, ypred))"
   ],
   "metadata": {
    "collapsed": false,
    "ExecuteTime": {
     "end_time": "2024-06-09T13:54:12.340277400Z",
     "start_time": "2024-06-09T13:54:12.328272400Z"
    }
   },
   "id": "cfc411c34272bc3b"
  },
  {
   "cell_type": "markdown",
   "source": [
    "# Param Grid using sklearn"
   ],
   "metadata": {
    "collapsed": false
   },
   "id": "b0845bce3c167eff"
  },
  {
   "cell_type": "code",
   "execution_count": 3,
   "outputs": [],
   "source": [
    "torch.set_float32_matmul_precision(\"medium\")"
   ],
   "metadata": {
    "collapsed": false,
    "ExecuteTime": {
     "end_time": "2024-06-09T13:54:12.359771500Z",
     "start_time": "2024-06-09T13:54:12.342277700Z"
    }
   },
   "id": "936c1daf3c884602"
  },
  {
   "cell_type": "code",
   "execution_count": 6,
   "outputs": [
    {
     "name": "stderr",
     "output_type": "stream",
     "text": [
      "Global seed set to 42\n"
     ]
    },
    {
     "ename": "AttributeError",
     "evalue": "'NoneType' object has no attribute 'fill_'",
     "output_type": "error",
     "traceback": [
      "\u001B[1;31m---------------------------------------------------------------------------\u001B[0m",
      "\u001B[1;31mAttributeError\u001B[0m                            Traceback (most recent call last)",
      "Cell \u001B[1;32mIn[6], line 30\u001B[0m\n\u001B[0;32m     11\u001B[0m param_grid \u001B[38;5;241m=\u001B[39m {\n\u001B[0;32m     12\u001B[0m     \u001B[38;5;124m'\u001B[39m\u001B[38;5;124mn_features\u001B[39m\u001B[38;5;124m'\u001B[39m: [\n\u001B[0;32m     13\u001B[0m         \u001B[38;5;66;03m# (4, 8, 16, 32, 64),\u001B[39;00m\n\u001B[1;32m   (...)\u001B[0m\n\u001B[0;32m     18\u001B[0m     \u001B[38;5;124m'\u001B[39m\u001B[38;5;124mwd\u001B[39m\u001B[38;5;124m'\u001B[39m: [\u001B[38;5;241m1e-5\u001B[39m],\n\u001B[0;32m     19\u001B[0m }\n\u001B[0;32m     21\u001B[0m \u001B[38;5;28;01mfor\u001B[39;00m params \u001B[38;5;129;01min\u001B[39;00m ParameterGrid(param_grid):\n\u001B[0;32m     22\u001B[0m     \u001B[38;5;66;03m# Select classification model:\u001B[39;00m\n\u001B[0;32m     23\u001B[0m \n\u001B[1;32m   (...)\u001B[0m\n\u001B[0;32m     27\u001B[0m     \u001B[38;5;66;03m#     n_features=(16, 32,),\u001B[39;00m\n\u001B[0;32m     28\u001B[0m     \u001B[38;5;66;03m# ).apply(init_for_relu)\u001B[39;00m\n\u001B[1;32m---> 30\u001B[0m     classifier \u001B[38;5;241m=\u001B[39m \u001B[43mResNetClassifier\u001B[49m\u001B[43m(\u001B[49m\n\u001B[0;32m     31\u001B[0m \u001B[43m        \u001B[49m\u001B[43mn_classes\u001B[49m\u001B[38;5;241;43m=\u001B[39;49m\u001B[43mn_classes\u001B[49m\u001B[43m,\u001B[49m\n\u001B[0;32m     32\u001B[0m \u001B[43m        \u001B[49m\u001B[43mn_features\u001B[49m\u001B[38;5;241;43m=\u001B[39;49m\u001B[43mparams\u001B[49m\u001B[43m[\u001B[49m\u001B[38;5;124;43m\"\u001B[39;49m\u001B[38;5;124;43mn_features\u001B[39;49m\u001B[38;5;124;43m\"\u001B[39;49m\u001B[43m]\u001B[49m\n\u001B[0;32m     33\u001B[0m \u001B[43m    \u001B[49m\u001B[43m)\u001B[49m\u001B[38;5;241;43m.\u001B[39;49m\u001B[43mapply\u001B[49m\u001B[43m(\u001B[49m\u001B[43mgeneric_init\u001B[49m\u001B[43m)\u001B[49m\n\u001B[0;32m     35\u001B[0m     \u001B[38;5;66;03m# classifier = CNN(\u001B[39;00m\n\u001B[0;32m     36\u001B[0m     \u001B[38;5;66;03m#     n_classes=n_classes,\u001B[39;00m\n\u001B[0;32m     37\u001B[0m     \u001B[38;5;66;03m#     n_features=params[\"n_features\"],\u001B[39;00m\n\u001B[1;32m   (...)\u001B[0m\n\u001B[0;32m     40\u001B[0m     \u001B[38;5;66;03m#     use_sepconv=True,\u001B[39;00m\n\u001B[0;32m     41\u001B[0m     \u001B[38;5;66;03m# )\u001B[39;00m\n\u001B[0;32m     43\u001B[0m     model \u001B[38;5;241m=\u001B[39m ClassificationModel(\n\u001B[0;32m     44\u001B[0m         model\u001B[38;5;241m=\u001B[39mclassifier,\n\u001B[0;32m     45\u001B[0m         n_classes\u001B[38;5;241m=\u001B[39mn_classes,\n\u001B[1;32m   (...)\u001B[0m\n\u001B[0;32m     48\u001B[0m         wd\u001B[38;5;241m=\u001B[39mparams[\u001B[38;5;124m\"\u001B[39m\u001B[38;5;124mwd\u001B[39m\u001B[38;5;124m\"\u001B[39m]\n\u001B[0;32m     49\u001B[0m     )\n",
      "File \u001B[1;32m~\\anaconda3\\envs\\ailab\\lib\\site-packages\\torch\\nn\\modules\\module.py:897\u001B[0m, in \u001B[0;36mModule.apply\u001B[1;34m(self, fn)\u001B[0m\n\u001B[0;32m    862\u001B[0m \u001B[38;5;250m\u001B[39m\u001B[38;5;124mr\u001B[39m\u001B[38;5;124;03m\"\"\"Applies ``fn`` recursively to every submodule (as returned by ``.children()``)\u001B[39;00m\n\u001B[0;32m    863\u001B[0m \u001B[38;5;124;03mas well as self. Typical use includes initializing the parameters of a model\u001B[39;00m\n\u001B[0;32m    864\u001B[0m \u001B[38;5;124;03m(see also :ref:`nn-init-doc`).\u001B[39;00m\n\u001B[1;32m   (...)\u001B[0m\n\u001B[0;32m    894\u001B[0m \n\u001B[0;32m    895\u001B[0m \u001B[38;5;124;03m\"\"\"\u001B[39;00m\n\u001B[0;32m    896\u001B[0m \u001B[38;5;28;01mfor\u001B[39;00m module \u001B[38;5;129;01min\u001B[39;00m \u001B[38;5;28mself\u001B[39m\u001B[38;5;241m.\u001B[39mchildren():\n\u001B[1;32m--> 897\u001B[0m     \u001B[43mmodule\u001B[49m\u001B[38;5;241;43m.\u001B[39;49m\u001B[43mapply\u001B[49m\u001B[43m(\u001B[49m\u001B[43mfn\u001B[49m\u001B[43m)\u001B[49m\n\u001B[0;32m    898\u001B[0m fn(\u001B[38;5;28mself\u001B[39m)\n\u001B[0;32m    899\u001B[0m \u001B[38;5;28;01mreturn\u001B[39;00m \u001B[38;5;28mself\u001B[39m\n",
      "File \u001B[1;32m~\\anaconda3\\envs\\ailab\\lib\\site-packages\\torch\\nn\\modules\\module.py:897\u001B[0m, in \u001B[0;36mModule.apply\u001B[1;34m(self, fn)\u001B[0m\n\u001B[0;32m    862\u001B[0m \u001B[38;5;250m\u001B[39m\u001B[38;5;124mr\u001B[39m\u001B[38;5;124;03m\"\"\"Applies ``fn`` recursively to every submodule (as returned by ``.children()``)\u001B[39;00m\n\u001B[0;32m    863\u001B[0m \u001B[38;5;124;03mas well as self. Typical use includes initializing the parameters of a model\u001B[39;00m\n\u001B[0;32m    864\u001B[0m \u001B[38;5;124;03m(see also :ref:`nn-init-doc`).\u001B[39;00m\n\u001B[1;32m   (...)\u001B[0m\n\u001B[0;32m    894\u001B[0m \n\u001B[0;32m    895\u001B[0m \u001B[38;5;124;03m\"\"\"\u001B[39;00m\n\u001B[0;32m    896\u001B[0m \u001B[38;5;28;01mfor\u001B[39;00m module \u001B[38;5;129;01min\u001B[39;00m \u001B[38;5;28mself\u001B[39m\u001B[38;5;241m.\u001B[39mchildren():\n\u001B[1;32m--> 897\u001B[0m     \u001B[43mmodule\u001B[49m\u001B[38;5;241;43m.\u001B[39;49m\u001B[43mapply\u001B[49m\u001B[43m(\u001B[49m\u001B[43mfn\u001B[49m\u001B[43m)\u001B[49m\n\u001B[0;32m    898\u001B[0m fn(\u001B[38;5;28mself\u001B[39m)\n\u001B[0;32m    899\u001B[0m \u001B[38;5;28;01mreturn\u001B[39;00m \u001B[38;5;28mself\u001B[39m\n",
      "File \u001B[1;32m~\\anaconda3\\envs\\ailab\\lib\\site-packages\\torch\\nn\\modules\\module.py:898\u001B[0m, in \u001B[0;36mModule.apply\u001B[1;34m(self, fn)\u001B[0m\n\u001B[0;32m    896\u001B[0m \u001B[38;5;28;01mfor\u001B[39;00m module \u001B[38;5;129;01min\u001B[39;00m \u001B[38;5;28mself\u001B[39m\u001B[38;5;241m.\u001B[39mchildren():\n\u001B[0;32m    897\u001B[0m     module\u001B[38;5;241m.\u001B[39mapply(fn)\n\u001B[1;32m--> 898\u001B[0m \u001B[43mfn\u001B[49m\u001B[43m(\u001B[49m\u001B[38;5;28;43mself\u001B[39;49m\u001B[43m)\u001B[49m\n\u001B[0;32m    899\u001B[0m \u001B[38;5;28;01mreturn\u001B[39;00m \u001B[38;5;28mself\u001B[39m\n",
      "File \u001B[1;32m~\\source\\ailab\\weight_init.py:56\u001B[0m, in \u001B[0;36mgeneric_init\u001B[1;34m(model, nonlinearity, init_args)\u001B[0m\n\u001B[0;32m     54\u001B[0m \u001B[38;5;28;01melif\u001B[39;00m \u001B[38;5;28misinstance\u001B[39m(model, nn\u001B[38;5;241m.\u001B[39mLinear):\n\u001B[0;32m     55\u001B[0m     nn\u001B[38;5;241m.\u001B[39minit\u001B[38;5;241m.\u001B[39mnormal_(model\u001B[38;5;241m.\u001B[39mweight, \u001B[38;5;241m0\u001B[39m, \u001B[38;5;241m0.01\u001B[39m)\n\u001B[1;32m---> 56\u001B[0m     \u001B[43mnn\u001B[49m\u001B[38;5;241;43m.\u001B[39;49m\u001B[43minit\u001B[49m\u001B[38;5;241;43m.\u001B[39;49m\u001B[43mconstant_\u001B[49m\u001B[43m(\u001B[49m\u001B[43mmodel\u001B[49m\u001B[38;5;241;43m.\u001B[39;49m\u001B[43mbias\u001B[49m\u001B[43m,\u001B[49m\u001B[43m \u001B[49m\u001B[38;5;241;43m0\u001B[39;49m\u001B[43m)\u001B[49m\n",
      "File \u001B[1;32m~\\anaconda3\\envs\\ailab\\lib\\site-packages\\torch\\nn\\init.py:199\u001B[0m, in \u001B[0;36mconstant_\u001B[1;34m(tensor, val)\u001B[0m\n\u001B[0;32m    197\u001B[0m \u001B[38;5;28;01mif\u001B[39;00m torch\u001B[38;5;241m.\u001B[39moverrides\u001B[38;5;241m.\u001B[39mhas_torch_function_variadic(tensor):\n\u001B[0;32m    198\u001B[0m     \u001B[38;5;28;01mreturn\u001B[39;00m torch\u001B[38;5;241m.\u001B[39moverrides\u001B[38;5;241m.\u001B[39mhandle_torch_function(constant_, (tensor,), tensor\u001B[38;5;241m=\u001B[39mtensor, val\u001B[38;5;241m=\u001B[39mval)\n\u001B[1;32m--> 199\u001B[0m \u001B[38;5;28;01mreturn\u001B[39;00m \u001B[43m_no_grad_fill_\u001B[49m\u001B[43m(\u001B[49m\u001B[43mtensor\u001B[49m\u001B[43m,\u001B[49m\u001B[43m \u001B[49m\u001B[43mval\u001B[49m\u001B[43m)\u001B[49m\n",
      "File \u001B[1;32m~\\anaconda3\\envs\\ailab\\lib\\site-packages\\torch\\nn\\init.py:59\u001B[0m, in \u001B[0;36m_no_grad_fill_\u001B[1;34m(tensor, val)\u001B[0m\n\u001B[0;32m     57\u001B[0m \u001B[38;5;28;01mdef\u001B[39;00m \u001B[38;5;21m_no_grad_fill_\u001B[39m(tensor, val):\n\u001B[0;32m     58\u001B[0m     \u001B[38;5;28;01mwith\u001B[39;00m torch\u001B[38;5;241m.\u001B[39mno_grad():\n\u001B[1;32m---> 59\u001B[0m         \u001B[38;5;28;01mreturn\u001B[39;00m \u001B[43mtensor\u001B[49m\u001B[38;5;241;43m.\u001B[39;49m\u001B[43mfill_\u001B[49m(val)\n",
      "\u001B[1;31mAttributeError\u001B[0m: 'NoneType' object has no attribute 'fill_'"
     ]
    }
   ],
   "source": [
    "from weight_init import generic_init\n",
    "\n",
    "pl.seed_everything(42, True)\n",
    "\n",
    "train_dl, valid_dl, test_dl = FashionMNIST.get_dataloaders(batch_size=16,\n",
    "                                                           pin_memory=True,\n",
    "                                                           num_workers=4,\n",
    "                                                           persistent_workers=True)\n",
    "n_classes = len(train_dl.dataset.classes)\n",
    "\n",
    "param_grid = {\n",
    "    'n_features': [\n",
    "        # (4, 8, 16, 32, 64),\n",
    "        # (8, 16, 32, 64, 128),\n",
    "        (16, 32, 64, 128, 256),\n",
    "    ],\n",
    "    'lr': [1e-3],\n",
    "    'wd': [1e-5],\n",
    "}\n",
    "\n",
    "for params in ParameterGrid(param_grid):\n",
    "    # Select classification model:\n",
    "\n",
    "    # classifier = MLPClassifier(\n",
    "    #     input_sz=28 * 28,\n",
    "    #     n_classes=n_classes,\n",
    "    #     n_features=(16, 32,),\n",
    "    # ).apply(init_for_relu)\n",
    "\n",
    "    classifier = ResNetClassifier(\n",
    "        n_classes=n_classes,\n",
    "        n_features=params[\"n_features\"]\n",
    "    ).apply(generic_init)\n",
    "\n",
    "    # classifier = CNN(\n",
    "    #     n_classes=n_classes,\n",
    "    #     n_features=params[\"n_features\"],\n",
    "    #     n_hidden_layers=128,\n",
    "    #     init_weights=True,\n",
    "    #     use_sepconv=True,\n",
    "    # )\n",
    "\n",
    "    model = ClassificationModel(\n",
    "        model=classifier,\n",
    "        n_classes=n_classes,\n",
    "        opt=\"AdamW\",\n",
    "        lr=params[\"lr\"],\n",
    "        wd=params[\"wd\"]\n",
    "    )\n",
    "\n",
    "    checkpoint_callback = pl.callbacks.ModelCheckpoint(\n",
    "        save_top_k=1,\n",
    "        monitor=\"accuracy/val\",\n",
    "        mode=\"max\",\n",
    "        filename=\"best-{epoch:02d}\",\n",
    "        save_last=True,\n",
    "    )\n",
    "\n",
    "    experiment_name = f\"Resnet-{len(params['n_features'])}-layers\"\n",
    "    # experiment_name = f\"Testing / Refactor\"\n",
    "    tb_logger = pl_loggers.TensorBoardLogger(save_dir='./results',\n",
    "                                             name=experiment_name,\n",
    "                                             sub_dir=model.classifier.__class__.__name__)\n",
    "    trainer = pl.Trainer(max_epochs=10,\n",
    "                         # limit_train_batches=10,\n",
    "                         # limit_val_batches=10,\n",
    "                         callbacks=[\n",
    "                             checkpoint_callback,\n",
    "                         ],\n",
    "                         logger=tb_logger,\n",
    "                         )\n",
    "    trainer.fit(model=model,\n",
    "                train_dataloaders=train_dl,\n",
    "                val_dataloaders=valid_dl,\n",
    "                # ckpt_path='./results/fashion_mnist/version_5/checkpoints/best-epoch=04.ckpt'\n",
    "                )\n",
    "\n",
    "    show_classification_results(test_dl, model, test_dl.dataset.classes)\n"
   ],
   "metadata": {
    "collapsed": false,
    "ExecuteTime": {
     "end_time": "2024-06-09T13:56:14.379456500Z",
     "start_time": "2024-06-09T13:56:14.226267200Z"
    }
   },
   "id": "c10f9d58693f3c15"
  },
  {
   "cell_type": "code",
   "execution_count": null,
   "outputs": [],
   "source": [
    "def objective(trial: optuna.trial.Trial) -> float:\n",
    "    pl.seed_everything(42, True)\n",
    "\n",
    "    params = {\n",
    "        \"dropout\": trial.suggest_float(\"dropout\", 0.1, 0.5, log=True),\n",
    "        \"lr\": trial.suggest_float(\"lr\", 1e-5, 1e-1, log=True),\n",
    "        \"wd\": trial.suggest_float(\"wd\", 1e-5, 1e-1, log=True),\n",
    "        \"opt\": trial.suggest_categorical(\"opt\", [\"SGD\", \"RAdam\"]),\n",
    "    }\n",
    "\n",
    "    data_module = FashionMNIST.FashionMNISTDataModule()\n",
    "    n_classes = data_module.n_classes\n",
    "    model = ResNetClassifier(\n",
    "        n_classes=n_classes,\n",
    "        **params).apply(init_for_relu)\n",
    "\n",
    "    trainer = train(model,\n",
    "                    data_module,\n",
    "                    monitored_metric='accuracy/val',\n",
    "                    mode='max',\n",
    "                    max_epochs=10,\n",
    "                    limit_train_batches=200)\n",
    "\n",
    "    return trainer.callback_metrics[\"accuracy/val\"].item()\n",
    "\n",
    "\n",
    "pruner = optuna.pruners.HyperbandPruner()\n",
    "study = optuna.create_study(direction=\"maximize\", pruner=pruner)\n",
    "study.optimize(objective, n_trials=100, timeout=60 * 60, n_jobs=1)\n",
    "\n",
    "print(\"Number of finished trials: {}\".format(len(study.trials)))\n",
    "\n",
    "print(\"Best trial:\")\n",
    "trial = study.best_trial\n",
    "\n",
    "print(\"  Value: {}\".format(trial.value))\n",
    "\n",
    "print(\"  Params: \")\n",
    "for key, value in trial.params.items():\n",
    "    print(\"    {}: {}\".format(key, value))"
   ],
   "metadata": {
    "collapsed": false
   },
   "id": "334eb883144387d7"
  },
  {
   "cell_type": "code",
   "execution_count": null,
   "outputs": [],
   "source": [
    "data_module = FashionMNIST.FashionMNISTDataModule()\n",
    "ckpt_path = \"results/FashionMNIST/version_2/checkpoints/last.ckpt\"\n",
    "model = ResNetClassifier.load_from_checkpoint(ckpt_path)\n",
    "\n",
    "checkpoint_callback = pl.callbacks.ModelCheckpoint(\n",
    "    save_top_k=1,\n",
    "    monitor=\"accuracy/val\",\n",
    "    mode=\"max\",\n",
    "    filename=\"best-{epoch:02d}\",\n",
    "    save_last=True,\n",
    ")\n",
    "\n",
    "tb_logger = pl_loggers.TensorBoardLogger(save_dir='./results',\n",
    "                                         name=data_module.dataset_name,\n",
    "                                         sub_dir=model.__class__.__name__)\n",
    "\n",
    "trainer = pl.Trainer(max_epochs=40,\n",
    "                     callbacks=[\n",
    "                         checkpoint_callback,\n",
    "                     ],\n",
    "                     logger=tb_logger,\n",
    "                     )\n",
    "\n",
    "trainer.fit(model,\n",
    "            data_module,\n",
    "            ckpt_path=ckpt_path,\n",
    "            )"
   ],
   "metadata": {
    "collapsed": false
   },
   "id": "fc8ce6eb314b5ff8"
  },
  {
   "cell_type": "code",
   "outputs": [],
   "source": [],
   "metadata": {
    "collapsed": false
   },
   "id": "855690a18a31a73d"
  }
 ],
 "metadata": {
  "kernelspec": {
   "display_name": "Python 3",
   "language": "python",
   "name": "python3"
  },
  "language_info": {
   "codemirror_mode": {
    "name": "ipython",
    "version": 2
   },
   "file_extension": ".py",
   "mimetype": "text/x-python",
   "name": "python",
   "nbconvert_exporter": "python",
   "pygments_lexer": "ipython2",
   "version": "2.7.6"
  }
 },
 "nbformat": 4,
 "nbformat_minor": 5
}
