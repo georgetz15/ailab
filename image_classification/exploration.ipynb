{
 "cells": [
  {
   "cell_type": "code",
   "execution_count": 1,
   "id": "initial_id",
   "metadata": {
    "collapsed": true,
    "ExecuteTime": {
     "end_time": "2024-06-09T14:25:31.486786700Z",
     "start_time": "2024-06-09T14:25:26.528643Z"
    }
   },
   "outputs": [
    {
     "name": "stderr",
     "output_type": "stream",
     "text": [
      "C:\\Users\\George Tzoupis\\anaconda3\\envs\\ailab\\lib\\site-packages\\torchvision\\io\\image.py:13: UserWarning: Failed to load image Python extension: '[WinError 127] The specified procedure could not be found'If you don't plan on using image functionality from `torchvision.io`, you can ignore this warning. Otherwise, there might be something wrong with your environment. Did you have `libjpeg` or `libpng` installed before building `torchvision` from source?\n",
      "  warn(\n"
     ]
    }
   ],
   "source": [
    "import numpy as np\n",
    "import optuna\n",
    "import torch\n",
    "\n",
    "from image_classification.models.mlp import MLPClassifier\n",
    "from image_classification.models.resnet import ResNetClassifier_fastai, Resnet\n",
    "import lightning.pytorch as pl\n",
    "import lightning.pytorch.loggers as pl_loggers\n",
    "import lightning.pytorch.callbacks as pl_callbacks\n",
    "from image_classification.models.classification_model import ClassificationModel\n",
    "\n",
    "from util import set_seed\n",
    "from weight_init import init_for_relu\n",
    "from sklearn.model_selection import ParameterGrid\n",
    "from datasets import FashionMNIST\n",
    "from experiment import train\n",
    "import sklearn.metrics as skm\n",
    "import torch\n",
    "from image_classification.models.cnn import CNN\n"
   ]
  },
  {
   "cell_type": "code",
   "execution_count": 2,
   "outputs": [],
   "source": [
    "def show_classification_results(test_dl, model, classnames):\n",
    "    ypred, ytrue = [], []\n",
    "\n",
    "    model.eval()\n",
    "    with torch.inference_mode():\n",
    "        for x, y in test_dl:\n",
    "            pred = model(x.to(model.device))\n",
    "            ypred.extend(pred.argmax(-1).cpu().numpy().flatten())\n",
    "            ytrue.extend(y.cpu().numpy().flatten())\n",
    "\n",
    "    print(skm.classification_report(ytrue, ypred, target_names=classnames))\n",
    "    print(skm.confusion_matrix(ytrue, ypred))"
   ],
   "metadata": {
    "collapsed": false,
    "ExecuteTime": {
     "end_time": "2024-06-09T14:25:31.501637Z",
     "start_time": "2024-06-09T14:25:31.487797800Z"
    }
   },
   "id": "cfc411c34272bc3b"
  },
  {
   "cell_type": "markdown",
   "source": [
    "# Param Grid using sklearn"
   ],
   "metadata": {
    "collapsed": false
   },
   "id": "b0845bce3c167eff"
  },
  {
   "cell_type": "code",
   "execution_count": 3,
   "outputs": [],
   "source": [
    "torch.set_float32_matmul_precision(\"medium\")"
   ],
   "metadata": {
    "collapsed": false,
    "ExecuteTime": {
     "end_time": "2024-06-09T14:25:31.520037400Z",
     "start_time": "2024-06-09T14:25:31.503681600Z"
    }
   },
   "id": "936c1daf3c884602"
  },
  {
   "cell_type": "code",
   "execution_count": 4,
   "outputs": [
    {
     "name": "stderr",
     "output_type": "stream",
     "text": [
      "Global seed set to 42\n",
      "C:\\Users\\George Tzoupis\\anaconda3\\envs\\ailab\\lib\\site-packages\\lightning\\pytorch\\utilities\\parsing.py:197: UserWarning: Attribute 'model' is an instance of `nn.Module` and is already saved during checkpointing. It is recommended to ignore them using `self.save_hyperparameters(ignore=['model'])`.\n",
      "  rank_zero_warn(\n",
      "GPU available: True (cuda), used: True\n",
      "TPU available: False, using: 0 TPU cores\n",
      "IPU available: False, using: 0 IPUs\n",
      "HPU available: False, using: 0 HPUs\n",
      "Missing logger folder: ./results\\Resnet-new-5-layers\n",
      "LOCAL_RANK: 0 - CUDA_VISIBLE_DEVICES: [0]\n",
      "Loading `train_dataloader` to estimate number of stepping batches.\n",
      "\n",
      "  | Name       | Type   | Params\n",
      "--------------------------------------\n",
      "0 | classifier | Resnet | 322 K \n",
      "--------------------------------------\n",
      "322 K     Trainable params\n",
      "0         Non-trainable params\n",
      "322 K     Total params\n",
      "1.291     Total estimated model params size (MB)\n"
     ]
    },
    {
     "data": {
      "text/plain": "Sanity Checking: 0it [00:00, ?it/s]",
      "application/vnd.jupyter.widget-view+json": {
       "version_major": 2,
       "version_minor": 0,
       "model_id": "951509f7464245bc9d949d339e2ef3af"
      }
     },
     "metadata": {},
     "output_type": "display_data"
    },
    {
     "data": {
      "text/plain": "Training: 0it [00:00, ?it/s]",
      "application/vnd.jupyter.widget-view+json": {
       "version_major": 2,
       "version_minor": 0,
       "model_id": "1df5ef172c8c4c8b90e63d9f9038ad90"
      }
     },
     "metadata": {},
     "output_type": "display_data"
    },
    {
     "data": {
      "text/plain": "Validation: 0it [00:00, ?it/s]",
      "application/vnd.jupyter.widget-view+json": {
       "version_major": 2,
       "version_minor": 0,
       "model_id": "bd82a649c1bc4613b16fb71fcec24731"
      }
     },
     "metadata": {},
     "output_type": "display_data"
    },
    {
     "data": {
      "text/plain": "Validation: 0it [00:00, ?it/s]",
      "application/vnd.jupyter.widget-view+json": {
       "version_major": 2,
       "version_minor": 0,
       "model_id": "2ffa97266bc842d6bf7e46e896c6c52e"
      }
     },
     "metadata": {},
     "output_type": "display_data"
    },
    {
     "data": {
      "text/plain": "Validation: 0it [00:00, ?it/s]",
      "application/vnd.jupyter.widget-view+json": {
       "version_major": 2,
       "version_minor": 0,
       "model_id": "13104c23103140e08ccbe65e1451d2cf"
      }
     },
     "metadata": {},
     "output_type": "display_data"
    },
    {
     "data": {
      "text/plain": "Validation: 0it [00:00, ?it/s]",
      "application/vnd.jupyter.widget-view+json": {
       "version_major": 2,
       "version_minor": 0,
       "model_id": "dab639faac0e4b3e8ad2aefd0101a519"
      }
     },
     "metadata": {},
     "output_type": "display_data"
    },
    {
     "data": {
      "text/plain": "Validation: 0it [00:00, ?it/s]",
      "application/vnd.jupyter.widget-view+json": {
       "version_major": 2,
       "version_minor": 0,
       "model_id": "4baa2c286be444568f37622591916951"
      }
     },
     "metadata": {},
     "output_type": "display_data"
    },
    {
     "data": {
      "text/plain": "Validation: 0it [00:00, ?it/s]",
      "application/vnd.jupyter.widget-view+json": {
       "version_major": 2,
       "version_minor": 0,
       "model_id": "7b12856c76044ecfb850ac2ccbd287df"
      }
     },
     "metadata": {},
     "output_type": "display_data"
    },
    {
     "data": {
      "text/plain": "Validation: 0it [00:00, ?it/s]",
      "application/vnd.jupyter.widget-view+json": {
       "version_major": 2,
       "version_minor": 0,
       "model_id": "4412e96a20774fa08576f9411a8b93ad"
      }
     },
     "metadata": {},
     "output_type": "display_data"
    },
    {
     "data": {
      "text/plain": "Validation: 0it [00:00, ?it/s]",
      "application/vnd.jupyter.widget-view+json": {
       "version_major": 2,
       "version_minor": 0,
       "model_id": "0c50c0760e404711be0f53fcc5a6f6d2"
      }
     },
     "metadata": {},
     "output_type": "display_data"
    },
    {
     "data": {
      "text/plain": "Validation: 0it [00:00, ?it/s]",
      "application/vnd.jupyter.widget-view+json": {
       "version_major": 2,
       "version_minor": 0,
       "model_id": "1a2b4df3aca146429ca99d7095c23713"
      }
     },
     "metadata": {},
     "output_type": "display_data"
    },
    {
     "data": {
      "text/plain": "Validation: 0it [00:00, ?it/s]",
      "application/vnd.jupyter.widget-view+json": {
       "version_major": 2,
       "version_minor": 0,
       "model_id": "6c4ad1dd85324abcab87ec8bc68a929e"
      }
     },
     "metadata": {},
     "output_type": "display_data"
    },
    {
     "name": "stderr",
     "output_type": "stream",
     "text": [
      "`Trainer.fit` stopped: `max_epochs=10` reached.\n",
      "C:\\Users\\George Tzoupis\\anaconda3\\envs\\ailab\\lib\\site-packages\\lightning\\pytorch\\utilities\\parsing.py:197: UserWarning: Attribute 'model' is an instance of `nn.Module` and is already saved during checkpointing. It is recommended to ignore them using `self.save_hyperparameters(ignore=['model'])`.\n",
      "  rank_zero_warn(\n",
      "GPU available: True (cuda), used: True\n",
      "TPU available: False, using: 0 TPU cores\n",
      "IPU available: False, using: 0 IPUs\n",
      "HPU available: False, using: 0 HPUs\n",
      "LOCAL_RANK: 0 - CUDA_VISIBLE_DEVICES: [0]\n",
      "Loading `train_dataloader` to estimate number of stepping batches.\n",
      "\n",
      "  | Name       | Type   | Params\n",
      "--------------------------------------\n",
      "0 | classifier | Resnet | 1.3 M \n",
      "--------------------------------------\n",
      "1.3 M     Trainable params\n",
      "0         Non-trainable params\n",
      "1.3 M     Total params\n",
      "5.003     Total estimated model params size (MB)\n"
     ]
    },
    {
     "name": "stdout",
     "output_type": "stream",
     "text": [
      "              precision    recall  f1-score   support\n",
      "\n",
      " T-shirt/top       0.78      0.86      0.82      1000\n",
      "     Trouser       0.99      0.97      0.98      1000\n",
      "    Pullover       0.80      0.86      0.83      1000\n",
      "       Dress       0.86      0.91      0.89      1000\n",
      "        Coat       0.81      0.81      0.81      1000\n",
      "      Sandal       0.98      0.94      0.96      1000\n",
      "       Shirt       0.70      0.55      0.62      1000\n",
      "     Sneaker       0.92      0.96      0.94      1000\n",
      "         Bag       0.98      0.98      0.98      1000\n",
      "  Ankle boot       0.95      0.95      0.95      1000\n",
      "\n",
      "    accuracy                           0.88     10000\n",
      "   macro avg       0.88      0.88      0.88     10000\n",
      "weighted avg       0.88      0.88      0.88     10000\n",
      "\n",
      "[[862   0  17  38   3   1  70   0   9   0]\n",
      " [  1 970   3  24   0   0   0   0   2   0]\n",
      " [ 13   1 858  12  43   0  72   0   1   0]\n",
      " [ 20   3   7 911  31   0  27   0   1   0]\n",
      " [  1   1  83  35 810   0  70   0   0   0]\n",
      " [  0   0   0   0   0 939   0  42   0  19]\n",
      " [201   1  91  34 109   0 553   0  11   0]\n",
      " [  0   0   0   0   0  16   0 957   0  27]\n",
      " [  3   1   8   3   3   1   1   2 976   2]\n",
      " [  0   0   0   1   0   3   0  43   1 952]]\n"
     ]
    },
    {
     "data": {
      "text/plain": "Sanity Checking: 0it [00:00, ?it/s]",
      "application/vnd.jupyter.widget-view+json": {
       "version_major": 2,
       "version_minor": 0,
       "model_id": "684b8bea87c34616a0f88b57c73c3ae1"
      }
     },
     "metadata": {},
     "output_type": "display_data"
    },
    {
     "data": {
      "text/plain": "Training: 0it [00:00, ?it/s]",
      "application/vnd.jupyter.widget-view+json": {
       "version_major": 2,
       "version_minor": 0,
       "model_id": "b31ab11c27134ffcac6782e2534ed436"
      }
     },
     "metadata": {},
     "output_type": "display_data"
    },
    {
     "data": {
      "text/plain": "Validation: 0it [00:00, ?it/s]",
      "application/vnd.jupyter.widget-view+json": {
       "version_major": 2,
       "version_minor": 0,
       "model_id": "e694e6d4c889421c8e1d972cefcdbe1c"
      }
     },
     "metadata": {},
     "output_type": "display_data"
    },
    {
     "data": {
      "text/plain": "Validation: 0it [00:00, ?it/s]",
      "application/vnd.jupyter.widget-view+json": {
       "version_major": 2,
       "version_minor": 0,
       "model_id": "9bffeb8a10b645648357f02250d4cec2"
      }
     },
     "metadata": {},
     "output_type": "display_data"
    },
    {
     "data": {
      "text/plain": "Validation: 0it [00:00, ?it/s]",
      "application/vnd.jupyter.widget-view+json": {
       "version_major": 2,
       "version_minor": 0,
       "model_id": "369861f8a97543779495c2aa32d98d6c"
      }
     },
     "metadata": {},
     "output_type": "display_data"
    },
    {
     "data": {
      "text/plain": "Validation: 0it [00:00, ?it/s]",
      "application/vnd.jupyter.widget-view+json": {
       "version_major": 2,
       "version_minor": 0,
       "model_id": "318df1f21f5a40d1b28fed667a84dcba"
      }
     },
     "metadata": {},
     "output_type": "display_data"
    },
    {
     "data": {
      "text/plain": "Validation: 0it [00:00, ?it/s]",
      "application/vnd.jupyter.widget-view+json": {
       "version_major": 2,
       "version_minor": 0,
       "model_id": "13f084418bcc4db8ac3e9ed5860847d9"
      }
     },
     "metadata": {},
     "output_type": "display_data"
    },
    {
     "data": {
      "text/plain": "Validation: 0it [00:00, ?it/s]",
      "application/vnd.jupyter.widget-view+json": {
       "version_major": 2,
       "version_minor": 0,
       "model_id": "8b1baac8d08f48508bd7007989689e55"
      }
     },
     "metadata": {},
     "output_type": "display_data"
    },
    {
     "data": {
      "text/plain": "Validation: 0it [00:00, ?it/s]",
      "application/vnd.jupyter.widget-view+json": {
       "version_major": 2,
       "version_minor": 0,
       "model_id": "7afb7c4974e84fd3b59a1476e1c1f0c3"
      }
     },
     "metadata": {},
     "output_type": "display_data"
    },
    {
     "data": {
      "text/plain": "Validation: 0it [00:00, ?it/s]",
      "application/vnd.jupyter.widget-view+json": {
       "version_major": 2,
       "version_minor": 0,
       "model_id": "695ace6af4524409a85ea6a6cf9a6013"
      }
     },
     "metadata": {},
     "output_type": "display_data"
    },
    {
     "data": {
      "text/plain": "Validation: 0it [00:00, ?it/s]",
      "application/vnd.jupyter.widget-view+json": {
       "version_major": 2,
       "version_minor": 0,
       "model_id": "735deeb097d446f18597fc0677651ecc"
      }
     },
     "metadata": {},
     "output_type": "display_data"
    },
    {
     "data": {
      "text/plain": "Validation: 0it [00:00, ?it/s]",
      "application/vnd.jupyter.widget-view+json": {
       "version_major": 2,
       "version_minor": 0,
       "model_id": "986d4e3e635f46248476343d094ce8ac"
      }
     },
     "metadata": {},
     "output_type": "display_data"
    },
    {
     "name": "stderr",
     "output_type": "stream",
     "text": [
      "`Trainer.fit` stopped: `max_epochs=10` reached.\n"
     ]
    },
    {
     "name": "stdout",
     "output_type": "stream",
     "text": [
      "              precision    recall  f1-score   support\n",
      "\n",
      " T-shirt/top       0.80      0.88      0.84      1000\n",
      "     Trouser       0.99      0.98      0.99      1000\n",
      "    Pullover       0.81      0.91      0.86      1000\n",
      "       Dress       0.88      0.93      0.90      1000\n",
      "        Coat       0.87      0.81      0.84      1000\n",
      "      Sandal       0.99      0.95      0.97      1000\n",
      "       Shirt       0.77      0.61      0.68      1000\n",
      "     Sneaker       0.92      0.97      0.94      1000\n",
      "         Bag       0.98      0.99      0.99      1000\n",
      "  Ankle boot       0.96      0.95      0.96      1000\n",
      "\n",
      "    accuracy                           0.90     10000\n",
      "   macro avg       0.90      0.90      0.90     10000\n",
      "weighted avg       0.90      0.90      0.90     10000\n",
      "\n",
      "[[884   1  16  20   2   1  68   0   8   0]\n",
      " [  2 976   1  19   1   0   0   0   1   0]\n",
      " [ 17   1 905  15  24   0  37   0   1   0]\n",
      " [ 27   0   8 930  10   0  23   0   0   2]\n",
      " [  2   0  85  52 810   0  49   0   2   0]\n",
      " [  0   0   0   0   0 950   0  38   0  12]\n",
      " [176   1  96  25  88   0 606   0   8   0]\n",
      " [  0   0   0   0   0   8   0 970   0  22]\n",
      " [  2   2   2   1   1   0   0   1 990   1]\n",
      " [  0   0   1   0   0   4   0  46   0 949]]\n"
     ]
    }
   ],
   "source": [
    "from weight_init import generic_init\n",
    "\n",
    "pl.seed_everything(42, True)\n",
    "\n",
    "train_dl, valid_dl, test_dl = FashionMNIST.get_dataloaders(batch_size=16,\n",
    "                                                           pin_memory=True,\n",
    "                                                           num_workers=4,\n",
    "                                                           persistent_workers=True)\n",
    "n_classes = len(train_dl.dataset.classes)\n",
    "\n",
    "param_grid = {\n",
    "    'n_features': [\n",
    "        # (4, 8, 16, 32, 64),\n",
    "        (8, 16, 32, 64, 128),\n",
    "        (16, 32, 64, 128, 256),\n",
    "    ],\n",
    "    'lr': [1e-3],\n",
    "    'wd': [1e-5],\n",
    "}\n",
    "\n",
    "for params in ParameterGrid(param_grid):\n",
    "    # Select classification model:\n",
    "\n",
    "    # classifier = MLPClassifier(\n",
    "    #     input_sz=28 * 28,\n",
    "    #     n_classes=n_classes,\n",
    "    #     n_features=(16, 32,),\n",
    "    # ).apply(init_for_relu)\n",
    "\n",
    "    # classifier = ResNetClassifier_fastai(\n",
    "    #     n_classes=n_classes,\n",
    "    #     n_features=params[\"n_features\"]\n",
    "    # ).apply(generic_init)\n",
    "\n",
    "    # classifier = CNN(\n",
    "    #     n_input_channels=1,\n",
    "    #     n_classes=n_classes,\n",
    "    #     n_features=params[\"n_features\"],\n",
    "    #     n_hidden_layers=128,\n",
    "    #     init_weights=True,\n",
    "    #     use_sepconv=False,\n",
    "    # )\n",
    "\n",
    "    classifier = Resnet(\n",
    "        n_input_channels=1,\n",
    "        n_classes=n_classes,\n",
    "        n_features=params[\"n_features\"],\n",
    "        n_hidden_layers=128,\n",
    "        init_weights=True,\n",
    "    )\n",
    "\n",
    "    model = ClassificationModel(\n",
    "        model=classifier,\n",
    "        n_classes=n_classes,\n",
    "        opt=\"AdamW\",\n",
    "        lr=params[\"lr\"],\n",
    "        wd=params[\"wd\"]\n",
    "    )\n",
    "\n",
    "    checkpoint_callback = pl.callbacks.ModelCheckpoint(\n",
    "        save_top_k=1,\n",
    "        monitor=\"accuracy/val\",\n",
    "        mode=\"max\",\n",
    "        filename=\"best-{epoch:02d}\",\n",
    "        save_last=True,\n",
    "    )\n",
    "\n",
    "    experiment_name = f\"Resnet-new-{len(params['n_features'])}-layers\"\n",
    "    # experiment_name = f\"Testing / Refactor\"\n",
    "    tb_logger = pl_loggers.TensorBoardLogger(save_dir='./results',\n",
    "                                             name=experiment_name,\n",
    "                                             sub_dir=model.classifier.__class__.__name__)\n",
    "    trainer = pl.Trainer(max_epochs=10,\n",
    "                         # limit_train_batches=10,\n",
    "                         # limit_val_batches=10,\n",
    "                         callbacks=[\n",
    "                             checkpoint_callback,\n",
    "                         ],\n",
    "                         logger=tb_logger,\n",
    "                         )\n",
    "    trainer.fit(model=model,\n",
    "                train_dataloaders=train_dl,\n",
    "                val_dataloaders=valid_dl,\n",
    "                # ckpt_path='./results/fashion_mnist/version_5/checkpoints/best-epoch=04.ckpt'\n",
    "                )\n",
    "\n",
    "    show_classification_results(test_dl, model, test_dl.dataset.classes)\n"
   ],
   "metadata": {
    "collapsed": false,
    "ExecuteTime": {
     "end_time": "2024-06-09T14:42:47.245764Z",
     "start_time": "2024-06-09T14:25:46.447093300Z"
    }
   },
   "id": "c10f9d58693f3c15"
  },
  {
   "cell_type": "code",
   "execution_count": null,
   "outputs": [],
   "source": [
    "def objective(trial: optuna.trial.Trial) -> float:\n",
    "    pl.seed_everything(42, True)\n",
    "\n",
    "    params = {\n",
    "        \"dropout\": trial.suggest_float(\"dropout\", 0.1, 0.5, log=True),\n",
    "        \"lr\": trial.suggest_float(\"lr\", 1e-5, 1e-1, log=True),\n",
    "        \"wd\": trial.suggest_float(\"wd\", 1e-5, 1e-1, log=True),\n",
    "        \"opt\": trial.suggest_categorical(\"opt\", [\"SGD\", \"RAdam\"]),\n",
    "    }\n",
    "\n",
    "    data_module = FashionMNIST.FashionMNISTDataModule()\n",
    "    n_classes = data_module.n_classes\n",
    "    model = ResNetClassifier(\n",
    "        n_classes=n_classes,\n",
    "        **params).apply(init_for_relu)\n",
    "\n",
    "    trainer = train(model,\n",
    "                    data_module,\n",
    "                    monitored_metric='accuracy/val',\n",
    "                    mode='max',\n",
    "                    max_epochs=10,\n",
    "                    limit_train_batches=200)\n",
    "\n",
    "    return trainer.callback_metrics[\"accuracy/val\"].item()\n",
    "\n",
    "\n",
    "pruner = optuna.pruners.HyperbandPruner()\n",
    "study = optuna.create_study(direction=\"maximize\", pruner=pruner)\n",
    "study.optimize(objective, n_trials=100, timeout=60 * 60, n_jobs=1)\n",
    "\n",
    "print(\"Number of finished trials: {}\".format(len(study.trials)))\n",
    "\n",
    "print(\"Best trial:\")\n",
    "trial = study.best_trial\n",
    "\n",
    "print(\"  Value: {}\".format(trial.value))\n",
    "\n",
    "print(\"  Params: \")\n",
    "for key, value in trial.params.items():\n",
    "    print(\"    {}: {}\".format(key, value))"
   ],
   "metadata": {
    "collapsed": false
   },
   "id": "334eb883144387d7"
  },
  {
   "cell_type": "code",
   "execution_count": null,
   "outputs": [],
   "source": [
    "data_module = FashionMNIST.FashionMNISTDataModule()\n",
    "ckpt_path = \"results/FashionMNIST/version_2/checkpoints/last.ckpt\"\n",
    "model = ResNetClassifier.load_from_checkpoint(ckpt_path)\n",
    "\n",
    "checkpoint_callback = pl.callbacks.ModelCheckpoint(\n",
    "    save_top_k=1,\n",
    "    monitor=\"accuracy/val\",\n",
    "    mode=\"max\",\n",
    "    filename=\"best-{epoch:02d}\",\n",
    "    save_last=True,\n",
    ")\n",
    "\n",
    "tb_logger = pl_loggers.TensorBoardLogger(save_dir='./results',\n",
    "                                         name=data_module.dataset_name,\n",
    "                                         sub_dir=model.__class__.__name__)\n",
    "\n",
    "trainer = pl.Trainer(max_epochs=40,\n",
    "                     callbacks=[\n",
    "                         checkpoint_callback,\n",
    "                     ],\n",
    "                     logger=tb_logger,\n",
    "                     )\n",
    "\n",
    "trainer.fit(model,\n",
    "            data_module,\n",
    "            ckpt_path=ckpt_path,\n",
    "            )"
   ],
   "metadata": {
    "collapsed": false
   },
   "id": "fc8ce6eb314b5ff8"
  },
  {
   "cell_type": "code",
   "outputs": [],
   "source": [],
   "metadata": {
    "collapsed": false
   },
   "id": "855690a18a31a73d"
  }
 ],
 "metadata": {
  "kernelspec": {
   "display_name": "Python 3",
   "language": "python",
   "name": "python3"
  },
  "language_info": {
   "codemirror_mode": {
    "name": "ipython",
    "version": 2
   },
   "file_extension": ".py",
   "mimetype": "text/x-python",
   "name": "python",
   "nbconvert_exporter": "python",
   "pygments_lexer": "ipython2",
   "version": "2.7.6"
  }
 },
 "nbformat": 4,
 "nbformat_minor": 5
}
